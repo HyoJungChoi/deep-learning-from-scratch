{
 "cells": [
  {
   "cell_type": "markdown",
   "metadata": {},
   "source": [
    "**평균 손실 함수**   \n",
    "\n",
    "$$ -E = \\frac{1}{N}\\sum\\sum t_nk logy_nk $$  \n",
    "\n",
    "N으로 나눔으로써 '평균 손실 함수'를 구하는 것이다. 이렇게 평균을 구해 사용하면 훈련 데이터 개수와 상관없이 언제든 동일한 지표를 얻을 수 있다.   \n",
    "\n",
    "신경망 학습에서도 훈련데이터의 일부를 추려 전체의 근사치로 이용할 수 있다. 신경망 학습에서도 훈련데이터로부터 일부만 골라 학습을 수행한다.   \n",
    "이 일부를 **미니 배치**라고 한다. 가령 60000자의 훈련 데이터 중에서 100장을 무작위로 뽑아 그 100장만을 사용하여 학습하는 것이다.   \n",
    "이러한 학습 방법을 **미니배치 학습** 이라고 한다."
   ]
  },
  {
   "cell_type": "code",
   "execution_count": 1,
   "metadata": {},
   "outputs": [
    {
     "name": "stdout",
     "output_type": "stream",
     "text": [
      "(60000, 784)\n",
      "(60000, 10)\n"
     ]
    }
   ],
   "source": [
    "import sys,os\n",
    "sys.path.append(os.pardir)\n",
    "import numpy as np\n",
    "from dataset.mnist import load_mnist\n",
    "\n",
    "(x_train, t_train),(x_test, t_test)= load_mnist(normalize=True, one_hot_label=True)\n",
    "\n",
    "print(x_train.shape) #훈련데이터는 700, 입력데이터 784\n",
    "print(t_train.shape) #정답레이블은 10줄"
   ]
  },
  {
   "cell_type": "code",
   "execution_count": 2,
   "metadata": {},
   "outputs": [],
   "source": [
    "#무작위로 10장만 빼내려면 어떻게 하면 될까\n",
    "\n",
    "train_size=x_train.shape[0]\n",
    "batch_size=10\n",
    "batch_mask=np.random.choice(train_size, batch_size)\n",
    "x_batch=x_train[batch_mask]\n",
    "t_batch=t_train[batch_mask]"
   ]
  },
  {
   "cell_type": "code",
   "execution_count": 3,
   "metadata": {},
   "outputs": [
    {
     "data": {
      "text/plain": [
       "array([21617, 30614, 55735,  8109,  5085, 33513, 28955, 14488, 41178,\n",
       "        8293])"
      ]
     },
     "execution_count": 3,
     "metadata": {},
     "output_type": "execute_result"
    }
   ],
   "source": [
    "np.random.choice(60000,10)"
   ]
  },
  {
   "cell_type": "code",
   "execution_count": 6,
   "metadata": {},
   "outputs": [],
   "source": [
    "#배치용 교차 엔트로피\n",
    "\n",
    "def cross_entropy_error(y,t):\n",
    "    if y.dim==1:\n",
    "        t=t.reshape(1,t.size) # t: 정답 레이블\n",
    "        y=y.reshape(1,y.size) # y: 신경망의 출력\n",
    "        \n",
    "    batch_size=y.shape[0]\n",
    "    return -np.sum(t*np.log(y+1e-7))/batch_size"
   ]
  },
  {
   "cell_type": "code",
   "execution_count": 7,
   "metadata": {},
   "outputs": [],
   "source": [
    "#정답 레이블이 원핫 인코딩이 아니라 '2','7'등의 숫자 레이블로 주어졌을때 교차 엔트로피\n",
    "\n",
    "def cross_entropy_error(y,t):\n",
    "    if y.dim==1:\n",
    "        t=t.reshape(1,t_size) # t: 정답 레이블\n",
    "        y=y.reshape(1,y_size) # y: 신경망의 출력\n",
    "        \n",
    "    batch_size=y.shape[0]\n",
    "    return -np.sum(np.log(y[np.arrange(batch_size),t]+1e-7))/batch_size #np.arrange(batch_size)는 0부터 batch_size -1까지 배열 생성\n"
   ]
  },
  {
   "cell_type": "markdown",
   "metadata": {},
   "source": [
    "t가 0일 때는 교차 엔트로피도 0이기 때문에 그 계산은 무시해도 좋다"
   ]
  },
  {
   "cell_type": "markdown",
   "metadata": {},
   "source": [
    "**왜 정확도가 아닌 손실함수를 사용해야 할까?**  \n",
    "\n",
    "정확도를 지표로 하면 매개변수의 미분이 대부분의 장소에서 0이 되기 때문이다. 정확도는 불연속적인 띄엄띄엄한 값으로 바뀌어버리고 손실함수의 값은 연속적으로 변화한다. 이는 계단 함수를 활성화 함수로 사용하지 않는 이유이기도 하다."
   ]
  },
  {
   "cell_type": "code",
   "execution_count": 15,
   "metadata": {},
   "outputs": [],
   "source": [
    "#미분 계산 예제\n",
    "\n",
    "#나쁜 구현의 예\n",
    "\n",
    "def numerical_diff(f,x):\n",
    "    h=10e-50\n",
    "    return (f(x+h)-f(x))/h"
   ]
  },
  {
   "cell_type": "markdown",
   "metadata": {},
   "source": [
    "1. 반올림 오차를 발생시킨다. 반올림 오차는 소숫점 8자리 이하가 생략되어 최종 결과에 오차가 생긴다.  \n",
    "\n",
    "2. 애당초 오차가 있기 때문에 진정한 미분이 아니다."
   ]
  },
  {
   "cell_type": "code",
   "execution_count": 16,
   "metadata": {},
   "outputs": [],
   "source": [
    "def numerical_diff(x,y):\n",
    "    h=1e-4\n",
    "    return (f(x+h)-f(x-h))/ (2*h)"
   ]
  }
 ],
 "metadata": {
  "kernelspec": {
   "display_name": "Python 3",
   "language": "python",
   "name": "python3"
  },
  "language_info": {
   "codemirror_mode": {
    "name": "ipython",
    "version": 3
   },
   "file_extension": ".py",
   "mimetype": "text/x-python",
   "name": "python",
   "nbconvert_exporter": "python",
   "pygments_lexer": "ipython3",
   "version": "3.7.6"
  }
 },
 "nbformat": 4,
 "nbformat_minor": 4
}
